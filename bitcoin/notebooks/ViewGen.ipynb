{
 "cells": [
  {
   "cell_type": "code",
   "execution_count": null,
   "metadata": {},
   "outputs": [],
   "source": [
    "import sys\n",
    "import pandas as pd\n",
    "import numpy as np\n",
    "import cufflinks as cf\n",
    "sys.path.append('../../')\n",
    "cf.go_offline()\n",
    "\n",
    "import bitcoin.backtester.viewgen as vg\n",
    "import bitcoin.storage.util as sutil\n",
    "import bitcoin.storage.api as st\n",
    "import bitcoin.util as util\n",
    "import bitcoin.params as params\n",
    "import bitcoin.strategies.mom as mom"
   ]
  },
  {
   "cell_type": "code",
   "execution_count": null,
   "metadata": {
    "collapsed": true
   },
   "outputs": [],
   "source": [
    "%load_ext snakeviz\n",
    "#%load_ext line_profiler"
   ]
  },
  {
   "cell_type": "code",
   "execution_count": null,
   "metadata": {},
   "outputs": [],
   "source": [
    "reload(st)\n",
    "\n",
    "name = '2017-11-10_00_to_2017-11-10_03'\n",
    "%time dataset = st.get_dataset(name)"
   ]
  },
  {
   "cell_type": "code",
   "execution_count": null,
   "metadata": {},
   "outputs": [],
   "source": [
    "reload(mom)\n",
    "reload(vg)\n",
    "\n",
    "strategy = mom.MomStrategy()\n",
    "viewgen = vg.ViewGen(strategy)\n",
    "end = pd.datetime(2017, 11, 10, 0, 30)\n",
    "\n",
    "%time viewgen.run(dataset)"
   ]
  },
  {
   "cell_type": "code",
   "execution_count": null,
   "metadata": {},
   "outputs": [],
   "source": [
    "result = viewgen.result\n",
    "result['view_diff'] = result['view'].diff()\n",
    "result.head()"
   ]
  },
  {
   "cell_type": "code",
   "execution_count": null,
   "metadata": {},
   "outputs": [],
   "source": [
    "group = result.groupby(pd.TimeGrouper('1T'))\n",
    "agg_view = group.view.apply(np.median)\n",
    "agg_price = group.price.last()\n",
    "agg_result = pd.concat([agg_view, agg_price], axis=1)\n",
    "agg_result['fwd_ret'] = agg_price.diff().shift(-1)\n",
    "agg_result.head()"
   ]
  },
  {
   "cell_type": "code",
   "execution_count": null,
   "metadata": {},
   "outputs": [],
   "source": [
    "agg_result.groupby(agg_result.view)['fwd_ret'].describe()"
   ]
  },
  {
   "cell_type": "code",
   "execution_count": null,
   "metadata": {
    "scrolled": false
   },
   "outputs": [],
   "source": [
    "result['balance'] = np.where(result.view_diff == 1,\n",
    "                             -result.price, \n",
    "                             np.where(result.view_diff == -1, result.price, 0))\n",
    "result.head()"
   ]
  },
  {
   "cell_type": "code",
   "execution_count": null,
   "metadata": {},
   "outputs": [],
   "source": [
    "result[result.view_diff.abs() > 0].head()"
   ]
  },
  {
   "cell_type": "code",
   "execution_count": null,
   "metadata": {},
   "outputs": [],
   "source": [
    "cum_balance = result.balance.cumsum()\n",
    "cum_balance = cum_balance[cum_balance.abs() <= 1000]\n",
    "cum_balance = cum_balance[cum_balance.diff().abs() > 0]\n",
    "print cum_balance.shape\n",
    "cum_balance.tail()"
   ]
  },
  {
   "cell_type": "code",
   "execution_count": null,
   "metadata": {},
   "outputs": [],
   "source": [
    "cum_balance.iplot()"
   ]
  },
  {
   "cell_type": "code",
   "execution_count": null,
   "metadata": {},
   "outputs": [],
   "source": [
    "result[['price', 'view']].iplot(secondary_y=['view'])"
   ]
  },
  {
   "cell_type": "code",
   "execution_count": null,
   "metadata": {},
   "outputs": [],
   "source": [
    "bins = 10\n",
    "prices = result.price\n",
    "\n",
    "diffs = prices.diff()\n",
    "groups = diffs.groupby(pd.TimeGrouper(freq='1T'))\n",
    "past = groups.mean()\n",
    "fwd = past.shift(-1)\n",
    "past_fwd = pd.DataFrame(dict(past=past, fwd=fwd))\n",
    "past_fwd = past_fwd[~past_fwd.past.isnull()]\n",
    "\n",
    "chunks = np.array_split(past_fwd.sort_values('past'), bins)\n",
    "deciles = pd.DataFrame([chunk.mean() for chunk in chunks])\n",
    "deciles.iplot(kind='bar', title='TS Mom Price Differences')\n",
    "deciles"
   ]
  },
  {
   "cell_type": "code",
   "execution_count": null,
   "metadata": {},
   "outputs": [],
   "source": [
    "past_fwd.head()"
   ]
  },
  {
   "cell_type": "code",
   "execution_count": null,
   "metadata": {
    "collapsed": true
   },
   "outputs": [],
   "source": [
    "timestamp = pd.datetime.utcnow()\n",
    "from datetime import datetime"
   ]
  },
  {
   "cell_type": "code",
   "execution_count": null,
   "metadata": {},
   "outputs": [],
   "source": [
    "isinstance(timestamp, datetime)"
   ]
  },
  {
   "cell_type": "code",
   "execution_count": null,
   "metadata": {},
   "outputs": [],
   "source": [
    "len(\"2017-11-23T09:33:51.316986Z\")"
   ]
  },
  {
   "cell_type": "code",
   "execution_count": null,
   "metadata": {
    "collapsed": true
   },
   "outputs": [],
   "source": []
  }
 ],
 "metadata": {
  "kernelspec": {
   "display_name": "Python 2",
   "language": "python",
   "name": "python2"
  },
  "language_info": {
   "codemirror_mode": {
    "name": "ipython",
    "version": 2
   },
   "file_extension": ".py",
   "mimetype": "text/x-python",
   "name": "python",
   "nbconvert_exporter": "python",
   "pygments_lexer": "ipython2",
   "version": "2.7.12"
  }
 },
 "nbformat": 4,
 "nbformat_minor": 2
}
