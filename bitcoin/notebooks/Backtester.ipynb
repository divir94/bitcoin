{
 "cells": [
  {
   "cell_type": "code",
   "execution_count": 1,
   "metadata": {
    "collapsed": true
   },
   "outputs": [],
   "source": [
    "import sys\n",
    "import pandas as pd\n",
    "import numpy as np\n",
    "from pprint import pprint\n",
    "sys.path.append('../../')\n",
    "\n",
    "import bitcoin.backtester.api as bt\n",
    "import bitcoin.order_book.gdax_order_book as ob\n",
    "import bitcoin.storage.util as sutil\n",
    "import bitcoin.storage.api as st\n",
    "import bitcoin.util as util\n",
    "import bitcoin.params as params\n",
    "from bitcoin.strategies.simple import SimpleStrategy"
   ]
  },
  {
   "cell_type": "code",
   "execution_count": 2,
   "metadata": {
    "collapsed": true
   },
   "outputs": [],
   "source": [
    "%load_ext snakeviz"
   ]
  },
  {
   "cell_type": "code",
   "execution_count": 15,
   "metadata": {},
   "outputs": [
    {
     "name": "stderr",
     "output_type": "stream",
     "text": [
      "2017-10-07 15:17:27,300 - backtester - INFO - Backtest start. Initial USD: 100000\n",
      "2017-10-07 15:17:53,931 - backtester - INFO - Backtest end. Final USD: 100000.0\n"
     ]
    },
    {
     "name": "stdout",
     "output_type": "stream",
     "text": [
      "{'USD': 100000, 'BTC': 1000}\n",
      "{}\n"
     ]
    }
   ],
   "source": [
    "reload(util)\n",
    "reload(ob)\n",
    "reload(bt)\n",
    "\n",
    "bt.main()"
   ]
  },
  {
   "cell_type": "code",
   "execution_count": null,
   "metadata": {
    "collapsed": true
   },
   "outputs": [],
   "source": []
  }
 ],
 "metadata": {
  "kernelspec": {
   "display_name": "Python 2",
   "language": "python",
   "name": "python2"
  },
  "language_info": {
   "codemirror_mode": {
    "name": "ipython",
    "version": 2
   },
   "file_extension": ".py",
   "mimetype": "text/x-python",
   "name": "python",
   "nbconvert_exporter": "python",
   "pygments_lexer": "ipython2",
   "version": "2.7.12"
  }
 },
 "nbformat": 4,
 "nbformat_minor": 2
}
